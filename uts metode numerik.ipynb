{
  "nbformat": 4,
  "nbformat_minor": 0,
  "metadata": {
    "colab": {
      "provenance": [],
      "authorship_tag": "ABX9TyPnqMaJsRsS9XCnk21sErrT",
      "include_colab_link": true
    },
    "kernelspec": {
      "name": "python3",
      "display_name": "Python 3"
    },
    "language_info": {
      "name": "python"
    }
  },
  "cells": [
    {
      "cell_type": "markdown",
      "metadata": {
        "id": "view-in-github",
        "colab_type": "text"
      },
      "source": [
        "<a href=\"https://colab.research.google.com/github/vyrr14/uts-metode-numerik/blob/main/uts%20metode%20numerik.ipynb\" target=\"_parent\"><img src=\"https://colab.research.google.com/assets/colab-badge.svg\" alt=\"Open In Colab\"/></a>"
      ]
    },
    {
      "cell_type": "code",
      "execution_count": null,
      "metadata": {
        "id": "O-zJb2EVZNKq"
      },
      "outputs": [],
      "source": [
        "1. persamaan non linier 3 + x^3 - x = 4\n",
        "def bisection(a, b, tolerance, max_iterations):\n",
        "    iteration = 0\n",
        "\n",
        "    while (b - a) / 2 > tolerance and iteration < max_iterations:\n",
        "        c = (a + b) / 2\n",
        "        if f(c) == 0:\n",
        "            return c\n",
        "        elif f(c) * f(a) < 0:\n",
        "            b = c\n",
        "        else:\n",
        "            a = c\n",
        "        iteration += 1\n",
        "\n",
        "    return (a + b) / 2\n",
        "\n",
        "# Contoh penggunaan\n",
        "a = -2.0\n",
        "b = 2.0\n",
        "tolerance = 1e-6\n",
        "max_iterations = 100\n",
        "\n",
        "solusi = bisection(a, b, tolerance, max_iterations)\n",
        "\n",
        "if solusi is not None:\n",
        "    print(\"Solusi dari persamaan nonlinier adalah:\", solusi)\n",
        "else:\n",
        "    print(\"Metode biseksi tidak konvergen.\")\n",
        "\n",
        "solusi dari persamaan non linier adalah: 1.3247175216674805\n",
        "\n",
        "\n",
        "2. persamaan linier 2x - 4 = 8\n",
        "def linear_equation_solver(coef, constant):\n",
        "    return (constant + coef) / coef\n",
        "\n",
        "# Koefisien variabel x\n",
        "coef_x = 2\n",
        "\n",
        "# Konstanta\n",
        "constant = 8 + 4\n",
        "\n",
        "# Menyelesaikan persamaan\n",
        "solusi = linear_equation_solver(coef_x, constant)\n",
        "\n",
        "print(\"Solusi dari persamaan linier adalah:\", solusi)\n",
        "\n",
        "solusi dari persamaan linier adalah: 6.0"
      ]
    }
  ]
}